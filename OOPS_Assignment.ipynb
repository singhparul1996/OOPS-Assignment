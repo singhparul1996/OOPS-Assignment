{
  "nbformat": 4,
  "nbformat_minor": 0,
  "metadata": {
    "colab": {
      "provenance": []
    },
    "kernelspec": {
      "name": "python3",
      "display_name": "Python 3"
    },
    "language_info": {
      "name": "python"
    }
  },
  "cells": [
    {
      "cell_type": "markdown",
      "source": [
        "1. What is Object-Oriented Programming (OOP)?\n",
        "  - Object-Oriented Programming (OOP) in Python structures code around objects, which are instances of classes, grouping data and behaviors into a cohesive unit, promoting reusability, modularity, and maintainability.\n",
        "Here's a more detailed explanation of key concepts:\n",
        "Core Principles of OOP in Python:\n",
        "**Classes:**\n",
        "Think of a class as a blueprint or template for creating objects. It defines the structure and behavior (attributes and methods) of the objects that will be created from it.\n",
        "**Objects:**\n",
        "Objects are instances of a class, meaning they are concrete realizations of the class's blueprint. They hold their own data and can perform actions defined in the class.\n",
        "**Encapsulation:**\n",
        "This principle bundles data (attributes) and the methods that operate on that data within a class. It protects data from direct external access and modification, promoting code organization and preventing unwanted changes.\n",
        "**Inheritance:**\n",
        "Allows a class (a subclass) to inherit attributes and methods from another class (a superclass or parent class), promoting code reuse and reducing redundancy.\n",
        "**Polymorphism:**\n",
        "Enables objects of different classes to be treated as objects of a common type, allowing for flexible and reusable code. It means the same method name can have different behaviors depending on the object it's called on.\n",
        "Abstraction:\n",
        "Focuses on the essential characteristics of an object and hides the unnecessary implementation details, simplifying interactions."
      ],
      "metadata": {
        "id": "myHDSVfumkaW"
      }
    },
    {
      "cell_type": "markdown",
      "source": [
        "2. What is a class in OOP?\n",
        "- A class is a template for objects, and an object is an instance of class.\n",
        "Let's assume we have a class named Fruit. A Fruit can have properties like name, color, weight, etc. We can define variables like $name, $color, and $weight to hold the values of these properties.\n",
        "\n",
        "When the individual objects (apple, banana, etc.) are created, they inherit all the properties and behaviors from the class, but each object will have different values for the properties.\n",
        "**Define a Class**\n",
        "A class is defined by using the class keyword, followed by the name of the class and a pair of curly braces ({}). All its properties and methods go inside the braces:\n",
        "class Fruit {\n",
        "  // Properties\n",
        "  public $name;\n",
        "  public $color;\n",
        "\n",
        "  // Methods\n",
        "  function set_name($name) {\n",
        "    $this->name = $name;\n",
        "  }\n",
        "  function get_name() {\n",
        "    return $this->name;\n",
        "  }\n",
        "}\n"
      ],
      "metadata": {
        "id": "dLNttR0hmkXG"
      }
    },
    {
      "cell_type": "markdown",
      "source": [
        "3. What is an object in OOP?\n",
        " - Define Objects\n",
        " Classes are nothing without objects! We can create multiple objects from a class. Each object has all the properties and methods defined in the class, but they will have different property values.\n",
        "\n",
        "Objects of a class are created using the new keyword.\n",
        "\n",
        "In the example below, $apple and $banana are instances of the class Fruit:\n",
        "<?php\n",
        "class Fruit {\n",
        "  // Properties\n",
        "  public $name;\n",
        "  public $color;\n",
        "\n",
        "  // Methods\n",
        "  function set_name($name) {\n",
        "    $this->name = $name;\n",
        "  }\n",
        "  function get_name() {\n",
        "    return $this->name;\n",
        "  }\n",
        "}\n",
        "\n",
        "$apple = new Fruit();\n",
        "$banana = new Fruit();\n",
        "$apple->set_name('Apple');\n",
        "$banana->set_name('Banana');\n",
        "\n",
        "echo $apple->get_name();\n",
        "echo \"<br>\";\n",
        "echo $banana->get_name();\n",
        "?>"
      ],
      "metadata": {
        "id": "akd_7-WrmkTu"
      }
    },
    {
      "cell_type": "markdown",
      "source": [
        "4. What is the difference between abstraction and encapsulation?\n",
        " -Object-Oriented Programming (OOP) is a powerful paradigm that allows developers to organize and structure their code in a more intuitive and efficient manner. Two key concepts in OOP are abstraction and encapsulation, which play vital roles in designing robust and maintainable software systems. In this article, we will explore the concepts of abstraction and encapsulation in Python, highlighting their differences, benefits.\n",
        " Abstraction: Hiding Complexity\n",
        "\n",
        "Abstraction is the process of hiding unnecessary details and exposing only essential features of an object or system. It allows developers to focus on high-level functionality without getting lost in the implementation details. Abstraction is achieved through abstract classes and interfaces in Python.\n",
        "\n",
        "An abstract class is a blueprint for other classes and cannot be instantiated itself. It defines common attributes and methods that subclasses must implement. By defining an abstract class, we can ensure that subclasses adhere to a certain structure or behaviour.\n",
        "from abc import ABC, abstractmethod\n",
        "\n",
        "class Vehicle(ABC):\n",
        "    @abstractmethod\n",
        "    def start(self):\n",
        "        pass\n",
        "\n",
        "    @abstractmethod\n",
        "    def stop(self):\n",
        "        pass\n",
        "\n",
        "class Car(Vehicle):\n",
        "    def start(self):\n",
        "        print(\"Car started.\")\n",
        "\n",
        "    def stop(self):\n",
        "        print(\"Car stopped.\")\n",
        "\n",
        "class Bike(Vehicle):\n",
        "    def start(self):\n",
        "        print(\"Bike started.\")\n",
        "\n",
        "    def stop(self):\n",
        "        print(\"Bike stopped.\")\n",
        "\n",
        "**Encapsulation: Data Protection and Hiding**\n",
        "\n",
        "Encapsulation is the practice of bundling data and methods together within a class, thereby hiding the internal state and implementation details from the outside world. It provides data protection and ensures that the internal state of an object can only be accessed through well-defined methods, known as getters and setters, or properties in Python.\n",
        "\n",
        "class BankAccount:\n",
        "    def __init__(self):\n",
        "        self._balance = 0\n",
        "\n",
        "    def deposit(self, amount):\n",
        "        self._balance += amount\n",
        "\n",
        "    def withdraw(self, amount):\n",
        "        if amount <= self._balance:\n",
        "            self._balance -= amount\n",
        "        else:\n",
        "            print(\"Insufficient balance.\")\n",
        "\n",
        "    def get_balance(self):\n",
        "        return self._balance"
      ],
      "metadata": {
        "id": "RZPBk2jhmkAn"
      }
    },
    {
      "cell_type": "markdown",
      "source": [
        "5. What are dunder methods in Python?\n",
        " - Dunder methods, also known as magic methods or special methods, are predefined methods in Python that have double underscores (or “dunders”) at the beginning and end of their names. These methods provide a way to define specific behaviors for built-in operations or functionalities in Python classes. By implementing dunder methods, you can customize the behavior of your objects and make them work seamlessly with Python’s language constructs.\n",
        "\n",
        "Here are some commonly used dunder methods and their purposes:\n",
        "\n",
        "__init__(self, ...): This is the constructor method that gets called when an object is created from a class. It initializes the object's attributes and performs any necessary setup.\n",
        "__str__(self): This method returns a string representation of the object and is invoked by the built-in str() function or when an object is printed. It provides a human-readable representation of the object.\n",
        "__repr__(self): This method returns a string that represents the object in a way that can be used to recreate the object. It is invoked by the built-in repr() function and is typically used for debugging purposes.\n",
        "__len__(self): This method returns the length of an object and is invoked by the built-in len() function. It is commonly used for sequences like lists, tuples, or strings.\n",
        "__getitem__(self, key): This method enables object indexing and slicing. It allows you to access elements of an object using square brackets ([]).\n",
        "__setitem__(self, key, value): This method enables object assignment with indexing. It allows you to set values for elements of an object using square brackets ([]).\n",
        "__delitem__(self, key): This method allows you to delete elements from an object using the del statement and square brackets ([]).\n",
        "__eq__(self, other): This method compares two objects for equality using the == operator. It returns True if the objects are equal and False otherwise.\n",
        "__lt__(self, other), __gt__(self, other), __le__(self, other), __ge__(self, other): These methods define comparison operators (<, >, <=, >=) for objects. They allow you to perform object comparisons based on custom criteria.\n",
        "__add__(self, other): This method allows objects to be added using the + operator. It defines the behavior of the addition operation for objects.\n",
        "\n",
        "These are just a few examples of the many dunder methods available in Python. By implementing these methods in your classes, you can customize the behavior of your objects and make them work seamlessly with Python’s built-in functions and operators. Dunder methods provide a powerful way to make your code more expressive and intuitive"
      ],
      "metadata": {
        "id": "1wFRittomjrA"
      }
    },
    {
      "cell_type": "markdown",
      "source": [
        "6.  Explain the concept of inheritance in OOP.\n",
        "  - Python Inheritance\n",
        "Inheritance allows us to define a class that inherits all the methods and properties from another class.\n",
        "\n",
        "Parent class is the class being inherited from, also called base class.\n",
        "\n",
        "Child class is the class that inherits from another class, also called derived class.\n",
        "Create a Parent Class\n",
        "Any class can be a parent class, so the syntax is the same as creating any other class:\n",
        "EXAMPLE\n",
        "Create a class named Person, with firstname and lastname properties, and a printname method:\n",
        "class Person:\n",
        "  def __init__(self, fname, lname):\n",
        "    self.firstname = fname\n",
        "    self.lastname = lname\n",
        "\n",
        "  def printname(self):\n",
        "    print(self.firstname, self.lastname)\n",
        "\n",
        "#Use the Person class to create an object, and then execute the printname method:\n",
        "\n",
        "x = Person(\"John\", \"Doe\")\n",
        "x.printname()\n",
        "Create a Child Class\n",
        "To create a class that inherits the functionality from another class, send the parent class as a parameter when creating the child class:\n",
        "\n",
        "Example\n",
        "Create a class named Student, which will inherit the properties and methods from the Person class:\n",
        "\n",
        "class Student(Person):\n",
        "  pass"
      ],
      "metadata": {
        "id": "INfkBZBnmjm1"
      }
    },
    {
      "cell_type": "markdown",
      "source": [
        "7. What is polymorphism in OOP?\n",
        " - In object-oriented-based Python programming, Polymorphism means the same function name is being used for different types. Each function is differentiated based on its data type and number of arguments. So, each function has a different signature. This allows developers to write clean, readable, and resilient codes.\n",
        "Example 1: Function Polymorphism\n",
        "friends = ['Joey', 'Rachel', 'Monica']\n",
        "city = 'New York'\n",
        "\n",
        "#calculate length\n",
        "print(len(friends))\n",
        "print(len(city))\n",
        "Output\n",
        "3\n",
        "8\n",
        "In the above example, we have used a built-in function len() that calculates the length of an object depending on its type. If the object is a list, the count of items within that list is returned. In the case of a string object, we get the count of characters in that string.\n",
        "\n",
        "Thus, len() is a polymorphic built-in function as it goes by the same name but takes different types.\n",
        "Example 2: Class Polymorphism\n",
        "class Boy:\n",
        "    def __init__(self, name, age):\n",
        "        self.name = name\n",
        "        self.age = age\n",
        "\n",
        "    def info(self):\n",
        "        print(f\"My name is {self.name}. I am {self.age} years old.\")\n",
        "\n",
        "    def gender(self):\n",
        "        print(\"M\")\n",
        "\n",
        "class Girl:\n",
        "    def __init__(self, name, age):\n",
        "        self.name = name\n",
        "        self.age = age\n",
        "\n",
        "    def info(self):\n",
        "        print(f\"My name is {self.name}. I am {self.age} years old.\")\n",
        "\n",
        "    def gender(self):\n",
        "        print(\"F\")\n",
        "\n",
        "boy1 = Boy(\"Sam\", 20)\n",
        "girl1 = Girl(\"Mona\", 26)\n",
        "\n",
        "for person in (boy1, girl1):\n",
        "    person.gender()\n",
        "    person.info()\n",
        "    person.gender()\n",
        "\n",
        " output :\n",
        " m\n",
        " my name is sam. i am 20 years old\n",
        " m\n",
        " f\n",
        " my name is mona. i am 20 years old\n",
        " f\n",
        "\n",
        " In the above example, we have created two classes – Boy and Girl with similar structures. They share the same function names – info() and gender().\n",
        "\n",
        "Notice that even though we have not linked the two classes together, we can pack these two different objects into a tuple and iterate through it using a common variable person. This is allowed due to the concept of Polymorphism.      \n",
        "\n",
        "\n"
      ],
      "metadata": {
        "id": "UG9n_KAemjfl"
      }
    },
    {
      "cell_type": "markdown",
      "source": [
        "8. How is encapsulation achieved in Python?\n",
        "  -In Python, encapsulation refers to the bundling of data (attributes) and methods (functions) that operate on the data into a single unit, typically a class. It also restricts direct access to some components, which helps protect the integrity of the data and ensures proper usage.\n",
        "  Encapsulation is the process of hiding the internal state of an object and requiring all interactions to be performed through an object’s methods.\n",
        "\n",
        "Encapsulation in Python is implemented using access specifiers to control access to class members:\n",
        "\n",
        "\n",
        "Public Members:-  By default, attributes and methods are public and can be accessed from outside the class.\n",
        "class Public:\n",
        "    def __init__(self):\n",
        "        self.name = \"John\"  # Public attribute\n",
        "\n",
        "    def display_name(self):\n",
        "        print(self.name)  # Public method\n",
        "\n",
        "obj = Public()\n",
        "obj.display_name()  # Accessible\n",
        "print(obj.name)  # Accessible\n",
        "\n",
        "Protected Members:-  Use a single underscore (_) prefix to indicate that an attribute or method is intended for internal use within the class and its subclasses.\n",
        "class Protected:\n",
        "    def __init__(self):\n",
        "        self._age = 30  # Protected attribute\n",
        "\n",
        "class Subclass(Protected):\n",
        "    def display_age(self):\n",
        "        print(self._age)  # Accessible in subclass\n",
        "\n",
        "obj = Subclass()\n",
        "obj.display_age()\n",
        "\n",
        "Private Members:-  Use double underscores (__) prefix to make an attribute or method private. This leads to name mangling, making it more challenging to access from outside the class.\n",
        "class Private:\n",
        "    def __init__(self):\n",
        "        self.__salary = 50000  # Private attribute\n",
        "\n",
        "    def salary(self):\n",
        "        return self.__salary  # Access through public method\n",
        "\n",
        "obj = Private()\n",
        "print(obj.salary())  # Works\n",
        "#print(obj.__salary)  # Raises AttributeError\n",
        "\n",
        "Encapsulation Benefit in Python:-\n",
        "1. Controlled Access: Encapsulation allows controlled access to the internal state of an object, protecting the data from unintended interference.\n",
        "2. Data Hiding: It hides the internal workings of a class, making the implementation details invisible to outside code and reducing the risk of accidental data modification.\n",
        "3. Improved Maintenance: Changes to the internal implementation of a class do not affect code that uses the class, as long as the public interface remains unchanged.\n"
      ],
      "metadata": {
        "id": "3BgO5tFPmjct"
      }
    },
    {
      "cell_type": "markdown",
      "source": [
        "9.  What is a constructor in Python?\n",
        "  - In Python, a constructor is a special method that is called automatically when an object is created from a class. Its main role is to initialize the object by setting up its attributes or state.\n",
        "\n",
        "The method __new__ is the constructor that creates a new instance of the class while __init__ is the initializer that sets up the instance’s attributes after creation. These methods work together to manage object creation and initialization.\n",
        "__new__ Method:-\n",
        "This method is responsible for creating a new instance of a class. It allocates memory and returns the new object. It is called before __init__.\n",
        "\n",
        "\n",
        "class ClassName:\n",
        "    def __new__(cls, parameters):\n",
        "        instance = super(ClassName, cls).__new__(cls)\n",
        "        return instance\n",
        "\n",
        " __init__ Method\n",
        "This method initializes the newly created instance and is commonly used as a constructor in Python. It is called immediately after the object is created by __new__ method and is responsible for initializing attributes of the instance.\n",
        " class ClassName:\n",
        "    def __init__(self, parameters):\n",
        "        self.attribute = value\n",
        " It is called after __new__ and does not return anything (it returns None by default).       \n"
      ],
      "metadata": {
        "id": "kWp7H9xVmjZ1"
      }
    },
    {
      "cell_type": "markdown",
      "source": [
        "10. What are class and static methods in Python?\n",
        "  - The @classmethod decorator is a built-in function decorator that is an expression that gets evaluated after your function is defined. The result of that evaluation shadows your function definition. A class method receives the class as an implicit first argument, just like an instance method receives the instance\n",
        "\n",
        "Syntax Python Class Method:\n",
        "\n",
        "class C(object):\n",
        "    @classmethod\n",
        "    def fun(cls, arg1, arg2, ...):\n",
        "    ....\n",
        "fun: function that needs to be converted into a class method\n",
        "returns: a class method for function.\n",
        "A class method is a method that is bound to the class and not the object of the class.\n",
        "They have the access to the state of the class as it takes a class parameter that points to the class and not the object instance.\n",
        "It can modify a class state that would apply across all the instances of the class. For example, it can modify a class variable that will be applicable to all the instances.\n",
        "EXAMPLE:-\n",
        "class MyClass:\n",
        "    def __init__(self, value):\n",
        "        self.value = value\n",
        "\n",
        "    def get_value(self):\n",
        "        return self.value\n",
        "\n",
        "# Create an instance of MyClass\n",
        "obj = MyClass(10)\n",
        "\n",
        "# Call the get_value method on the instance\n",
        "print(obj.get_value())\n",
        " # Output: 10\n",
        "\n",
        "STATIC METHOD:-  \n",
        "A static method does not receive an implicit first argument. A static method is also a method that is bound to the class and not the object of the class. This method can’t access or modify the class state. It is present in a class because it makes sense for the method to be present in class.\n",
        "\n",
        "Syntax Python Static Method:\n",
        "\n",
        "class C(object):\n",
        "    @staticmethod\n",
        "    def fun(arg1, arg2, ...):\n",
        "        ...\n",
        "returns: a static method for function fun.\n",
        "EXAMPLE:-\n",
        "class MyClass:\n",
        "    def __init__(self, value):\n",
        "        self.value = value\n",
        "\n",
        "    @staticmethod\n",
        "    def get_max_value(x, y):\n",
        "        return max(x, y)\n",
        "\n",
        "# Create an instance of MyClass\n",
        "obj = MyClass(10)\n",
        "\n",
        "print(MyClass.get_max_value(20, 30))  \n",
        "\n",
        "print(obj.get_max_value(20, 30))\n",
        "\n",
        "#OUTPUT\n",
        "30\n",
        "30\n"
      ],
      "metadata": {
        "id": "T1QQkLkWmjWd"
      }
    },
    {
      "cell_type": "markdown",
      "source": [
        "11. What is method overloading in Python?\n",
        " - In Python Two or more methods have the same name but different numbers of parameters or different types of parameters, or both. These methods are called overloaded methods and this is called method overloading.\n",
        "\n",
        "Like other languages (for example, method overloading in C++) do, python does not support method overloading by default. But there are different ways to achieve method overloading in Python.\n",
        "The problem with method overloading in Python is that we may overload the methods but can only use the latest defined method.\n",
        "EXAPLE:-\n",
        "# First product method.\n",
        "# Takes two argument and print their\n",
        "# product\n",
        "\n",
        "\n",
        "def product(a, b):\n",
        "    p = a * b\n",
        "    print(p)\n",
        "\n",
        "# Second product method\n",
        "# Takes three argument and print their\n",
        "# product\n",
        "\n",
        "\n",
        "def product(a, b, c):\n",
        "    p = a * b*c\n",
        "    print(p)\n",
        "\n",
        "# Uncommenting the below line shows an error\n",
        "# product(4, 5)\n",
        "\n",
        "\n",
        "# This line will call the second product method\n",
        "product(4, 5, 5)\n",
        "\n",
        "#Output\n",
        "100\n",
        "In the above code, we have defined two product methods we can only use the second product method, as python does not support method overloading. We may define many methods of the same name and different arguments, but we can only use the latest defined method. Calling the other method will produce an error. Like here calling product(4,5) will produce an error as the latest defined product method takes three arguments\n"
      ],
      "metadata": {
        "id": "M7TecYgrmjS4"
      }
    },
    {
      "cell_type": "markdown",
      "source": [
        "12. What is method overriding in OOP?\n",
        "  - Method overriding is an ability of any object-oriented programming language that allows a subclass or child class to provide a specific implementation of a method that is already provided by one of its super-classes or parent classes. When a method in a subclass has the same name, the same parameters or signature, and same return type(or sub-type) as a method in its super-class, then the method in the subclass is said to override the method in the super-class.\n",
        "overriding-in-python\n",
        "The version of a method that is executed will be determined by the object that is used to invoke it. If an object of a parent class is used to invoke the method, then the version in the parent class will be executed, but if an object of the subclass is used to invoke the method, then the version in the child class will be executed. In other words, it is the type of the object being referred to (not the type of the reference variable) that determines which version of an overridden method will be executed.\n",
        "Example:\n",
        "super().__init__(): This ensures that the parent class’s constructor is called, initializing any attributes defined in the parent class. It’s good practice to call the parent class constructor if it does important initialization.\n",
        "Method Override: The Child class overrides the show() method of the Parent class, so when show() is called on an instance of Child, it uses the Child class’s implementation.\n",
        "\n",
        "\n",
        "\n",
        "# Python program to demonstrate\n",
        "# Defining parent class\n",
        "class Parent():\n",
        "    \n",
        "    # Constructor\n",
        "    def __init__(self):\n",
        "        self.value = \"Inside Parent\"\n",
        "        \n",
        "    # Parent's show method\n",
        "    def show(self):\n",
        "        print(self.value)\n",
        "        \n",
        "# Defining child class\n",
        "class Child(Parent):\n",
        "    \n",
        "    # Constructor\n",
        "    def __init__(self):\n",
        "        super().__init__()  # Call parent constructor\n",
        "        self.value = \"Inside Child\"\n",
        "        \n",
        "    # Child's show method\n",
        "    def show(self):\n",
        "        print(self.value)\n",
        "        \n",
        "# Driver's code\n",
        "obj1 = Parent()\n",
        "obj2 = Child()\n",
        "\n",
        "obj1.show()  # Should print \"Inside Parent\"\n",
        "obj2.show()  # Should print \"Inside Child\"\n",
        "\n",
        "#OUTPUT\n",
        "Inside Parent\n",
        "Inside Child"
      ],
      "metadata": {
        "id": "lmNQ6sGFmjPW"
      }
    },
    {
      "cell_type": "markdown",
      "source": [
        "13. What is a property decorator in Python?\n",
        "  -A decorator feature in Python wraps in a function, appends several functionalities to existing code and then returns it. Methods and functions are known to be callable as they can be called. Therefore, a decorator is also a callable that returns callable. This is also known as metaprogramming as at compile time a section of program alters another section of the program. Note: For more information, refer to Decorators in Python\n",
        "  @property decorator is a built-in decorator in Python which is helpful in defining the properties effortlessly without manually calling the inbuilt function property(). Which is used to return the property attributes of a class from the stated getter, setter and deleter as parameters. Now, lets see some examples to illustrate the use of @property decorator in Python\n",
        " Example:-\n",
        " # Python program to illustrate the use of\n",
        "# @property decorator\n",
        "\n",
        "# Defining class\n",
        "class Portal:\n",
        "\n",
        "    # Defining __init__ method\n",
        "    def __init__(self):\n",
        "        self.__name =''\n",
        "     \n",
        "    # Using @property decorator\n",
        "    @property\n",
        "     \n",
        "    # Getter method\n",
        "    def name(self):\n",
        "        return self.__name\n",
        "     \n",
        "    # Setter method\n",
        "    @name.setter\n",
        "    def name(self, val):\n",
        "        self.__name = val\n",
        "\n",
        "    # Deleter method\n",
        "    @name.deleter\n",
        "    def name(self):\n",
        "       del self.__name\n",
        "\n",
        "# Creating object\n",
        "p = Portal();\n",
        "\n",
        "# Setting name\n",
        "p.name = 'GeeksforGeeks'\n",
        "\n",
        "# Prints name\n",
        "print (p.name)\n",
        "\n",
        "# Deletes name\n",
        "del p.name\n",
        "\n",
        "# As name is deleted above this\n",
        "# will throw an error\n",
        "print (p.name)\n",
        "\n",
        "#Output:\n",
        "GeeksforGeeks\n",
        "\n",
        "## An error is thrown\n",
        "Traceback (most recent call last):\n",
        "  File \"main.py\", line 42, in\n",
        "    print (p.name)\n",
        "  File \"main.py\", line 16, in name\n",
        "    return self.__name\n",
        "AttributeError: 'Portal' object has no attribute '_Portal__name'"
      ],
      "metadata": {
        "id": "uPU0XCeRmjI1"
      }
    },
    {
      "cell_type": "markdown",
      "source": [
        "14.  Why is polymorphism important in OOP?\n",
        "  -Polymorphism is crucial in Object-Oriented Programming (OOP) because it enables code reusability, flexibility, and extensibility by allowing different objects to implement the same method in unique ways while sharing a common interface, simplifying complex programs.\n",
        "Here's a more detailed explanation of why polymorphism is important in OOP:\n",
        "1. Code Reusability & Flexibility:\n",
        "Polymorphism allows you to treat objects of different classes as objects of a common type, enabling you to write generic code that can handle various object types without modification.\n",
        "This means you can reuse code with different classes that share a common interface, promoting DRY (Don't Repeat Yourself) principles.\n",
        "2. Extensibility and Maintainability:\n",
        "When new subclasses are added, you don't have to modify the existing code that uses the base class interface because the new subclasses can inherit and implement the base class methods in their own way.\n",
        "This makes your code more adaptable and easier to maintain as the application evolves.\n",
        "3. Simplified Code Design:\n",
        "Instead of managing multiple special cases, you can focus on the parent class or interface, simplifying code structure and reducing potential errors.\n",
        "It allows you to design and implement more robust and maintainable systems.\n",
        "4. Key OOP Concept:\n",
        "Polymorphism, alongside encapsulation, abstraction, and inheritance, is one of the core pillars of object-oriented programming.\n",
        "It's essential for achieving the benefits of OOP and building well-structured and scalable software"
      ],
      "metadata": {
        "id": "hgrrLRu9nr9N"
      }
    },
    {
      "cell_type": "markdown",
      "source": [
        "15. What is an abstract class in Python?\n",
        "  -In Python, an abstract class is a class that cannot be instantiated on its own and is designed to be a blueprint for other classes. Abstract classes allow us to define methods that must be implemented by subclasses, ensuring a consistent interface while still allowing the subclasses to provide specific implementations.\n",
        "\n",
        "Abstract Base Classes in Python\n",
        "It defines methods that must be implemented by its subclasses, ensuring that the subclasses follow a consistent structure. ABCs allow you to define common interfaces that various subclasses can implement while enforcing a level of abstraction.\n",
        "\n",
        "Python provides the abc module to define ABCs and enforce the implementation of abstract methods in subclasses.\n",
        "Example:\n",
        "from abc import ABC, abstractmethod\n",
        "\n",
        "# Define an abstract class\n",
        "class Animal(ABC):\n",
        "    \n",
        "    @abstractmethod\n",
        "    def sound(self):\n",
        "        pass  # This is an abstract method, no implementation here.\n",
        "\n",
        "# Concrete subclass of Animal\n",
        "class Dog(Animal):\n",
        "    \n",
        "    def sound(self):\n",
        "        return \"Bark\"  # Providing the implementation of the abstract method\n",
        "\n",
        "# Create an instance of Dog\n",
        "dog = Dog()\n",
        "print(dog.sound())\n",
        "# Output: Bark\n",
        "\n",
        "Abstract Base Class: Animal is an abstract class that inherits from ABC (Abstract Base Class). This class cannot be instantiated directly because it contains an abstract method sound(). The @abstractmethod decorator is used to mark sound() as an abstract method. This means any subclass must implement this method to be instantiated.\n",
        "Concrete Subclass: Dog is a subclass of Animal that provides an implementation for the sound() method. This allows the Dog class to be instantiated and used.\n",
        "Instantiation: We create an instance of Dog and call the sound() method, which returns “Bark”."
      ],
      "metadata": {
        "id": "_z62PTFWnr6M"
      }
    },
    {
      "cell_type": "markdown",
      "source": [
        "16.  What are the advantages of OOP?\n",
        "   -OOP stands for Object-Oriented Programming. As you can guess from it’s name it breaks the program on the basis of the objects in it. It mainly works on Class, Object, Polymorphism, Abstraction, Encapsulation and Inheritance. Its aim is to bind together the data and functions to operate on them.\n",
        "\n",
        "Some of the well-known object-oriented languages are Objective C, Perl, Java, Python, Modula, Ada, Simula, C++, Smalltalk and some Common Lisp Object Standard. Here we are discussing its benefits on C++.\n",
        "\n",
        "Benefits of OOP\n",
        "We can build the programs from standard working modules that communicate with one another, rather than having to start writing the code from scratch which leads to saving of development time and higher productivity,\n",
        "OOP language allows to break the program into the bit-sized problems that can be solved easily (one object at a time).\n",
        "The new technology promises greater programmer productivity, better quality of software and lesser maintenance cost.\n",
        "OOP systems can be easily upgraded from small to large systems.\n",
        "It is possible that multiple instances of objects co-exist without any interference,\n",
        "It is very easy to partition the work in a project based on objects.\n",
        "It is possible to map the objects in problem domain to those in the program.\n",
        "The principle of data hiding helps the programmer to build secure programs which cannot be invaded by the code in other parts of the program.\n",
        "By using inheritance, we can eliminate redundant code and extend the use of existing classes.\n",
        "Message passing techniques is used for communication between objects which makes the interface descriptions with external systems much simpler.\n",
        "The data-centered design approach enables us to capture more details of model in an implementable form.\n",
        "While it is possible to incorporate all these features in an OOP, their importance depends upon the type of project and preference of the programmer. These technology is still developing and current products may be superseded quickly.\n",
        "\n",
        "Developing a software is easy to use makes it hard to build."
      ],
      "metadata": {
        "id": "72FQ_jYanr0V"
      }
    },
    {
      "cell_type": "markdown",
      "source": [
        "17. What is the difference between a class variable and an instance variable?\n",
        "  -In Python, a class variable is a variable that is defined within a class and outside of any class method. It is a variable that is shared by all instances of the class, meaning that if the variable's value is changed, the change will be reflected in all instances of the class. Class variables help store data common to all instances of a class.\n",
        "  Creating a Class Variable\n",
        "Here's an example of how to create a class variable in Python:\n",
        "\n",
        "class Employee:\n",
        "    office_name = \"XYZ Private Limited\"  # This is a class variable\n",
        "Copy\n",
        "In this example, the office_name variable is a class variable, and it is shared among all instances of the Employee class.\n",
        "\n",
        "In Python you can access class variables in the constructor of a class. The constructor is defined using the special method __init__() and is called automatically when an instance of a class is created.\n",
        "Example:-\n",
        "To access the value of the class variable within the constructor, you can use the name of the class followed by the class variable\n",
        "class Employee:\n",
        "    office_name = \"XYZ Private Limited\"\n",
        "\n",
        "    def __init__(self):\n",
        "        print(Employee.office_name)\n",
        "\n",
        "my_instance = Employee()\n",
        "Python Instance Variables\n",
        "A class in which the value of the variable vary from object to object is known as instance variables. An instance variable, in object-oriented programming, is a variable that is associated with an instance or object of a class.\n",
        "\n",
        "It holds data or state that is specific to that instance and can be accessed or modified through the instance's methods. Instance variables are typically declared within the class definition and can have different values for different instances of the same class.\n",
        "\n",
        "Creating an Instance Variable\n",
        "Here is an example of how to create an instance variable:\n",
        "class Employee:\n",
        "    def __init__(self, name, id):\n",
        "        self.name = name\n",
        "        self.id = id\n",
        "        self.salary = 0\n",
        "In this example, we define an Employee class with three instance variables, name, id, and salary. We set the first two instance variables, name and id, in the __init__ method. We also set the salary instance variable to a default value of 0.\n",
        "Class Variables vs Instance Variables:-\n",
        "Definition:-\tClass variables are defined within the class but outside of any class methods.\tInstance variables are defined within class methods, typically the constructor.\n",
        "Scope :-\tChanges made to the class variable affect all instances.\tChanges made to the instance variable does not affect all instances.\n",
        "Initialization:- \tClass variables can be initialized either inside the class definition or outside the class definition.\tInstance variables are typically initialized in the constructor of the class.\n",
        "Access:- Class variables are accessed using the class name, followed by the variable name.\tInstance variables are accessed using the instance name, followed by the variable name.\n",
        "Usage:-\tClass variables are useful for storing data that is shared among all instances of a class, such as constants or default values.\tInstance variables are used to store data that is unique to each instance of a class, such as object properties."
      ],
      "metadata": {
        "id": "H9wxvgLjnrw9"
      }
    },
    {
      "cell_type": "markdown",
      "source": [
        "18. What is multiple inheritance in Python?\n",
        "  -Inheritance is the mechanism to achieve the re-usability of code as one class(child class) can derive the properties of another class(parent class). It also provides transitivity ie. if class C inherits from P then all the sub-classes of C would also inherit from P.\n",
        "\n",
        "\n",
        "Multiple Inheritance\n",
        "When a class is derived from more than one base class it is called multiple Inheritance. The derived class inherits all the features of the base case.\n",
        "Syntax:\n",
        "\n",
        "Class Base1:\n",
        "       Body of the class\n",
        "\n",
        "Class Base2:\n",
        "     Body of the class\n",
        "\n",
        "Class Derived(Base1, Base2):\n",
        "     Body of the class\n",
        "In the coming section, we will see the problem faced during multiple inheritance and how to tackle it with the help of examples.\n",
        "# Python Program to depict multiple inheritance\n",
        "# when method is overridden in both classes\n",
        "\n",
        "class Class1:\n",
        "    def m(self):\n",
        "        print(\"In Class1\")\n",
        "       \n",
        "class Class2(Class1):\n",
        "    def m(self):\n",
        "        print(\"In Class2\")\n",
        "\n",
        "class Class3(Class1):\n",
        "    def m(self):\n",
        "        print(\"In Class3\")  \n",
        "        \n",
        "class Class4(Class2, Class3):\n",
        "    pass  \n",
        "     \n",
        "obj = Class4()\n",
        "obj.m()\n",
        "#Output:\n",
        "\n",
        "In Class2\n",
        "#Note:\n",
        " When you call obj.m() (m on the instance of Class4) the output is In Class2. If Class4 is declared as Class4(Class3, Class2) then the output of obj.m() will be In Class3."
      ],
      "metadata": {
        "id": "gyCySlw7nrtY"
      }
    },
    {
      "cell_type": "markdown",
      "source": [
        "19. Explain the purpose of ‘’__str__’ and ‘__repr__’ ‘ methods in Python.\n",
        "   -In Python, the __str__ and __repr__ methods are used to define how objects of a class should be represented as strings. They serve different purposes:\n",
        "\n",
        "1. __str__ (User-Friendly String Representation)\n",
        "The __str__ method is meant to return a human-readable string representation of an object.\n",
        "It is called when you use str(obj) or print(obj).\n",
        "The output is designed to be more user-friendly.\n",
        "Example:\n",
        "class Person:\n",
        "    def __init__(self, name, age):\n",
        "        self.name = name\n",
        "        self.age = age\n",
        "\n",
        "    def __str__(self):\n",
        "        return f\"{self.name} is {self.age} years old.\"\n",
        "\n",
        "p = Person(\"Alice\", 30)\n",
        "print(p)\n",
        "# Output: Alice is 30 years old.\n",
        "\n",
        "2. __repr__ (Developer-Friendly String Representation)\n",
        "The __repr__ method is meant to return an unambiguous string representation of an object.\n",
        "It is used for debugging and logging, providing more detail.\n",
        "It should ideally return a string that can be used to recreate the object.\n",
        "It is called when you use repr(obj) or type the object name in an interactive shell.\n",
        "Example:\n",
        "class Person:\n",
        "    def __init__(self, name, age):\n",
        "        self.name = name\n",
        "        self.age = age\n",
        "\n",
        "    def __repr__(self):\n",
        "        return f\"Person('{self.name}', {self.age})\"\n",
        "\n",
        "p = Person(\"Alice\", 30)\n",
        "print(repr(p))  \n",
        "# Output: Person('Alice', 30)"
      ],
      "metadata": {
        "id": "5Mu8Tp8ynrq-"
      }
    },
    {
      "cell_type": "markdown",
      "source": [
        "20. What is the significance of the ‘super()’ function in Python?\n",
        "  -The super() function is used in Python to call methods from a parent (or superclass) in a child (or subclass). It is particularly useful in inheritance when you want to extend or override a parent class's method but still reuse its implementation.\n",
        "\n",
        "Key Benefits of super()\n",
        "Avoids Redundant Code – It allows reuse of parent class methods instead of rewriting them in the subclass.\n",
        "Maintains Single Responsibility – A subclass only defines what’s different, and the parent class handles the common behavior.\n",
        "Supports Multiple Inheritance – super() ensures the correct method resolution order (MRO) in complex inheritance hierarchies.\n",
        "Example:-\n",
        "class Parent:\n",
        "    def greet(self):\n",
        "        print(\"Hello from Parent\")\n",
        "\n",
        "class Child(Parent):\n",
        "    def greet(self):\n",
        "        super().greet()  # Calls Parent's greet() method\n",
        "        print(\"Hello from Child\")\n",
        "\n",
        "c = Child()\n",
        "c.greet()\n",
        "Output:\n",
        "Hello from Parent\n",
        "Hello from Child\n",
        "\n",
        "Here, super().greet() calls the greet() method from Parent before executing the child's greet()."
      ],
      "metadata": {
        "id": "Ry96HCjbnrk1"
      }
    },
    {
      "cell_type": "markdown",
      "source": [
        "21. What is the significance of the __del__ method in Python?\n",
        "  -The __del__ method in Python is a destructor that is automatically called when an object is about to be destroyed (garbage collected). It is primarily used for cleanup operations such as releasing resources (e.g., closing files, network connections, or database connections).\n",
        "\n",
        "Basic Syntax\n",
        "class Example:\n",
        "    def __init__(self, name):\n",
        "        self.name = name\n",
        "        print(f\"Object {self.name} created.\")\n",
        "\n",
        "    def __del__(self):\n",
        "        print(f\"Object {self.name} destroyed.\")\n",
        "\n",
        "# Create an object\n",
        "obj = Example(\"Test\")\n",
        "\n",
        "# Delete the object\n",
        "del obj  \n",
        "Output:\n",
        "Object Test created.\n",
        "Object Test destroyed.\n",
        "Key Uses of __del__\n",
        "Resource Cleanup – Used to close files, release memory, or free up database connections.\n",
        "Logging and Debugging – Helps track when objects are deleted.\n",
        "Avoiding Memory Leaks – Ensures resources are properly released.\n",
        "EXAMPLE:-\n",
        "Closing a File Automatically\n",
        "class FileHandler:\n",
        "    def __init__(self, filename):\n",
        "        self.file = open(filename, 'w')\n",
        "        print(\"File opened.\")\n",
        "\n",
        "    def write_data(self, data):\n",
        "        self.file.write(data)\n",
        "\n",
        "    def __del__(self):\n",
        "        self.file.close()\n",
        "        print(\"File closed.\")\n",
        "\n",
        "# Creating and deleting an object\n",
        "handler = FileHandler(\"sample.txt\")\n",
        "handler.write_data(\"Hello, world!\")\n",
        "del handler  # Ensures the file is closed\n",
        "#Output:\n",
        "File opened.\n",
        "File closed.\n"
      ],
      "metadata": {
        "id": "gD-H92Llnrhm"
      }
    },
    {
      "cell_type": "markdown",
      "source": [
        "22. What is the difference between @staticmethod and @classmethod in Python?\n",
        "  -Difference Between @staticmethod and @classmethod in Python\n",
        "Both @staticmethod and @classmethod are used to define methods that are not instance methods in a class. However, they have key differences in how they operate and their intended use cases.\n",
        "\n",
        "1. @staticmethod (Independent Utility Function)\n",
        "A static method does not take self or cls as the first parameter.\n",
        "It behaves like a regular function but is logically grouped inside the class.\n",
        "It cannot modify instance attributes or class attributes.\n",
        "Example: Static Method\n",
        "class MathUtils:\n",
        "    @staticmethod\n",
        "    def add(x, y):\n",
        "        return x + y\n",
        "# Call without creating an instance\n",
        "print(MathUtils.add(3, 5))  # Output: 8\n",
        "✅ Use @staticmethod when:\n",
        "The method does not depend on the instance (self) or class (cls).\n",
        "It is a utility function related to the class.\n",
        "2. @classmethod (Works with Class-Level Data)\n",
        "A class method takes cls as its first argument, referring to the class itself.\n",
        "It can modify class attributes but not instance attributes.\n",
        "Example: Class Method\n",
        "class Car:\n",
        "    wheels = 4  # Class attribute\n",
        "\n",
        "    @classmethod\n",
        "    def set_wheels(cls, num):\n",
        "        cls.wheels = num  # Modifies class attribute\n",
        "\n",
        "# Call class method without an instance\n",
        "Car.set_wheels(6)\n",
        "print(Car.wheels)  # Output: 6\n",
        "✅ Use @classmethod when:\n",
        "\n",
        "The method needs to modify or access class-level data.\n",
        "You want to create alternative constructors.\n"
      ],
      "metadata": {
        "id": "R3UTI-ZGnrdc"
      }
    },
    {
      "cell_type": "markdown",
      "source": [
        "23.  How does polymorphism work in Python with inheritance?\n",
        "  -Polymorphism in Python with Inheritance\n",
        "Polymorphism allows objects of different classes to be treated as objects of a common superclass, enabling a single interface to work with different types of objects dynamically.\n",
        "\n",
        "In Python, polymorphism is typically achieved through method overriding in inheritance.\n",
        "\n",
        "1. Method Overriding (Runtime Polymorphism)\n",
        "When a child class provides a specific implementation of a method that is already defined in its parent class.\n",
        "The overridden method in the child class is called instead of the parent class’s method when invoked on an instance of the child.\n",
        "Example: Polymorphism with Method Overriding\n",
        "class Animal:\n",
        "    def speak(self):\n",
        "        return \"Animal makes a sound\"\n",
        "\n",
        "class Dog(Animal):\n",
        "    def speak(self):\n",
        "        return \"Woof!\"\n",
        "\n",
        "class Cat(Animal):\n",
        "    def speak(self):\n",
        "        return \"Meow!\"\n",
        "\n",
        "# Using polymorphism\n",
        "animals = [Dog(), Cat(), Animal()]\n",
        "\n",
        "for animal in animals:\n",
        "    print(animal.speak())\n",
        "#Output:-\n",
        "Woof!\n",
        "Meow!\n",
        "Animal makes a sound\n",
        "Here, the speak() method is overridden in Dog and Cat, demonstrating polymorphism.\n",
        "\n",
        "2. Polymorphism in Function and Method Calls\n",
        "A function can take different objects and call the same method, regardless of their specific class.\n",
        "\n",
        "Example: Using a Function to Demonstrate Polymorphism\n",
        "def make_sound(animal):\n",
        "    print(animal.speak())\n",
        "\n",
        "make_sound(Dog())  # Woof!\n",
        "make_sound(Cat())  # Meow!\n",
        "make_sound(Animal())  # Animal makes a sound\n",
        "Even though the make_sound() function calls the speak() method, different implementations are executed based on the object type.\n",
        "\n",
        "3. Polymorphism with Abstract Base Classes (ABC)\n",
        "Sometimes, you may want to enforce that subclasses implement specific methods. This can be achieved using abstract base classes (ABC).\n",
        "\n",
        "Example: Enforcing Polymorphism with ABC\n",
        "from abc import ABC, abstractmethod\n",
        "\n",
        "class Animal(ABC):\n",
        "    @abstractmethod\n",
        "    def speak(self):\n",
        "        pass  # Must be implemented by all subclasses\n",
        "\n",
        "class Dog(Animal):\n",
        "    def speak(self):\n",
        "        return \"Woof!\"\n",
        "\n",
        "class Cat(Animal):\n",
        "    def speak(self):\n",
        "        return \"Meow!\"\n",
        "\n",
        "# animal = Animal()  # This will raise an error (Cannot instantiate abstract class)\n",
        "dog = Dog()\n",
        "print(dog.speak())  # Woof!\n",
        "Here, Animal is an abstract class, and all subclasses must implement speak().\n",
        "\n",
        "4. Operator Overloading (Compile-Time Polymorphism)\n",
        "Python also supports operator overloading, allowing the same operator to perform different operations depending on the data type.\n",
        "\n",
        "Example: Overloading the + Operator\n",
        "class Number:\n",
        "    def __init__(self, value):\n",
        "        self.value = value\n",
        "\n",
        "    def __add__(self, other):\n",
        "        return Number(self.value + other.value)\n",
        "\n",
        "num1 = Number(10)\n",
        "num2 = Number(20)\n",
        "result = num1 + num2  # Calls __add__ method\n",
        "print(result.value)\n",
        "# Output: 30"
      ],
      "metadata": {
        "id": "zJSeLhNunrJH"
      }
    },
    {
      "cell_type": "markdown",
      "source": [
        "24. What is method chaining in Python OOP?\n",
        "  -  Method Chaining in Python OOP\n",
        "Method chaining is a technique in Object-Oriented Programming (OOP) where multiple methods are called on the same object in a single statement. This is achieved by having each method return self, allowing the next method to be called on the same object.\n",
        "\n",
        "Benefits of Method Chaining\n",
        "✅ Improves readability – Reduces the need for multiple lines of code.\n",
        "✅ More expressive syntax – Makes code more intuitive, similar to fluent interfaces in JavaScript and other languages.\n",
        "✅ Encourages immutability – Useful in designing immutable objects where each method returns a modified copy.\n",
        "\n",
        "Basic Example: Method Chaining in a Class\n",
        "class Person:\n",
        "    def __init__(self, name):\n",
        "        self.name = name\n",
        "        self.actions = []\n",
        "\n",
        "    def greet(self):\n",
        "        self.actions.append(f\"Hello, I am {self.name}\")\n",
        "        return self  # Returning self allows method chaining\n",
        "\n",
        "    def walk(self):\n",
        "        self.actions.append(f\"{self.name} is walking\")\n",
        "        return self  # Returning self allows chaining\n",
        "\n",
        "    def talk(self):\n",
        "        self.actions.append(f\"{self.name} is talking\")\n",
        "        return self  # Returning self allows chaining\n",
        "\n",
        "    def show_actions(self):\n",
        "        for action in self.actions:\n",
        "            print(action)\n",
        "        return self  # Allows further chaining if needed\n",
        "# Method chaining in action\n",
        "person = Person(\"Alice\")\n",
        "person.greet().walk().talk().show_actions()\n",
        "\n",
        "#Output:-\n",
        "Hello, I am Alice\n",
        "Alice is walking\n",
        "Alice is talking\n",
        "🔹 Here, greet(), walk(), and talk() return self, allowing them to be chained together."
      ],
      "metadata": {
        "id": "quREaJERmi_t"
      }
    },
    {
      "cell_type": "markdown",
      "source": [
        "25. What is the purpose of the __call__ method in Python?\n",
        "  -The __call__ method in Python allows an instance of a class to be called like a function. This makes objects behave like functions, enabling cleaner and more flexible code.\n",
        "\n",
        "1. Basic Usage of __call__\n",
        "By defining __call__, you can invoke an object as if it were a function.\n",
        "Example: Creating a Callable Class\n",
        "class Greeting:\n",
        "    def __init__(self, name):\n",
        "        self.name = name\n",
        "\n",
        "    def __call__(self):\n",
        "        return f\"Hello, {self.name}!\"\n",
        "# Create an instance\n",
        "greet = Greeting(\"Alice\")\n",
        "# Call the instance like a function\n",
        "print(greet())  # Output: Hello, Alice!\n",
        "✅ Here, calling greet() is the same as calling greet.__call__().\n",
        "\n",
        "2. Real-World Applications of __call__\n",
        "a) Using __call__ for Function Caching\n",
        "class MultiplyBy:\n",
        "    def __init__(self, factor):\n",
        "        self.factor = factor\n",
        "\n",
        "    def __call__(self, num):\n",
        "        return num * self.factor\n",
        "\n",
        "# Create an instance with a specific factor\n",
        "double = MultiplyBy(2)\n",
        "triple = MultiplyBy(3)\n",
        "\n",
        "# Use instances like functions\n",
        "print(double(5))  # Output: 10\n",
        "print(triple(5))  # Output: 15\n",
        "\n",
        "b) __call__ in Function Decorators\n",
        "In Python, __call__ is widely used in decorators.\n",
        "\n",
        "class Logger:\n",
        "    def __init__(self, func):\n",
        "        self.func = func\n",
        "\n",
        "    def __call__(self, *args, **kwargs):\n",
        "        print(f\"Calling {self.func.__name__} with {args}, {kwargs}\")\n",
        "        return self.func(*args, **kwargs)\n",
        "\n",
        "@Logger\n",
        "def add(x, y):\n",
        "    return x + y\n",
        "\n",
        "print(add(3, 4))\n",
        "#Output:-\n",
        "Calling add with (3, 4), {}\n",
        "7"
      ],
      "metadata": {
        "id": "ZKIiKs5Tmip3"
      }
    },
    {
      "cell_type": "code",
      "execution_count": null,
      "metadata": {
        "id": "W9JFOZInmV1o",
        "colab": {
          "base_uri": "https://localhost:8080/"
        },
        "outputId": "3d2db013-975c-4f44-a881-ce0ea21c8fd4"
      },
      "outputs": [
        {
          "output_type": "stream",
          "name": "stdout",
          "text": [
            "dog barking\n",
            "Animal Speaking\n"
          ]
        }
      ],
      "source": [
        "#1. Create a parent class Animal with a method speak() that prints a generic message. Create a child class Dog that overrides the speak() method to print \"Bark!\".\n",
        "class Animal:\n",
        "    def speak(self):\n",
        "        print(\"Animal Speaking\")\n",
        "#child class Dog inherits the base class Animal\n",
        "class Dog(Animal):\n",
        "    def bark(self):\n",
        "        print(\"dog barking\")\n",
        "d = Dog()\n",
        "d.bark()\n",
        "d.speak()"
      ]
    },
    {
      "cell_type": "code",
      "source": [
        "#2. Write a program to create an abstract class Shape with a method area(). Derive classes Circle and Rectangle from it and implement the area() method in both.\n",
        "class Shape:\n",
        "    def area(self):\n",
        "        return \"Undefined\"\n",
        "\n",
        "class Rectangle(Shape):\n",
        "    def __init__(self, length, width):\n",
        "        self.length = length\n",
        "        self.width = width\n",
        "\n",
        "    def area(self):\n",
        "        return self.length * self.width\n",
        "\n",
        "class Circle(Shape):\n",
        "    def __init__(self, radius):\n",
        "        self.radius = radius\n",
        "\n",
        "    def area(self):\n",
        "        return 3.14 * self.radius ** 2\n",
        "\n",
        "shapes = [Rectangle(2, 3), Circle(5)]\n",
        "for shape in shapes:\n",
        "    print(f\"Area: {shape.area()}\")\n",
        "\n",
        "\n",
        "\n",
        "\n",
        "\n"
      ],
      "metadata": {
        "id": "U-7xzlbXoy_1",
        "colab": {
          "base_uri": "https://localhost:8080/"
        },
        "outputId": "b4d97428-c60d-4001-8bb6-e177dd59fb65"
      },
      "execution_count": 17,
      "outputs": [
        {
          "output_type": "stream",
          "name": "stdout",
          "text": [
            "Area: 6\n",
            "Area: 78.5\n"
          ]
        }
      ]
    },
    {
      "cell_type": "code",
      "source": [
        "#3. Implement a multi-level inheritance scenario where a class Vehicle has an attribute type. Derive a class Car and further derive a class ElectricCar that adds a battery attribute.\n",
        "class Base:\n",
        "    # Constructor to set Data\n",
        "    def __init__(self, name, roll, role):\n",
        "        self.name = name\n",
        "        self.roll = roll\n",
        "        self.role = role\n",
        "\n",
        "# Intermediate Class: Inherits the Base Class\n",
        "class Intermediate(Base):\n",
        "    # Constructor to set age\n",
        "    def __init__(self, age, name, roll, role):\n",
        "        super().__init__(name, roll, role)\n",
        "        self.age = age\n",
        "\n",
        "# Derived Class: Inherits the Intermediate Class\n",
        "class Derived(Intermediate):\n",
        "    # Method to Print Data\n",
        "    def __init__(self, age, name, roll, role):\n",
        "        super().__init__(age, name, roll, role)\n",
        "#3. Implement a multi-level inheritance scenario where a class Vehicle has an attribute type. Derive a class Car and further derive a class ElectricCar that adds a battery attribute.\n",
        "class Base:\n",
        "    # Constructor to set Data\n",
        "    def __init__(self, name, roll, role):\n",
        "        self.name = name\n",
        "        self.roll = roll\n",
        "        self.role = role\n",
        "\n",
        "# Intermediate Class: Inherits the Base Class\n",
        "class Intermediate(Base):\n",
        "    # Constructor to set age\n",
        "    def __init__(self, age, name, roll, role):\n",
        "        super().__init__(name, roll, role)\n",
        "        self.age = age\n",
        "\n",
        "# Derived Class: Inherits the Intermediate Class\n",
        "class Derived(Intermediate):\n",
        "    # Method to Print Data\n",
        "    def __init__(self, age, name, roll, role):\n",
        "        super().__init__(age, name, roll, role)\n",
        "\n",
        "    def Print_Data(self):\n",
        "        print(f\"The Name is : {self.name}\")\n",
        "        print(f\"The Age is : {self.age}\")\n",
        "        print(f\"The role is : {self.role}\")\n",
        "        print(f\"The Roll is : {self.roll}\")\n",
        "\n",
        "# Creating Object of Base Class\n",
        "obj = Derived(21, \"Lokesh Singh\", 25, \"Software Trainer\")\n",
        "\n",
        "# Printing the data with the help of derived class\n",
        "obj.Print_Data()\n",
        "\n"
      ],
      "metadata": {
        "id": "DugLaXXpoy89",
        "colab": {
          "base_uri": "https://localhost:8080/"
        },
        "outputId": "75f39244-7609-4df0-ff96-67c07a5ded70"
      },
      "execution_count": 16,
      "outputs": [
        {
          "output_type": "stream",
          "name": "stdout",
          "text": [
            "The Name is : Lokesh Singh\n",
            "The Age is : 21\n",
            "The role is : Software Trainer\n",
            "The Roll is : 25\n"
          ]
        }
      ]
    },
    {
      "cell_type": "code",
      "source": [
        "#4.Demonstrate polymorphism by creating a base class Bird with a method fly(). Create two derived classes Sparrow and Penguin that override the fly() method.\n",
        "class Bird:\n",
        "    def fly(self):\n",
        "        return \"Some birds can fly.\"\n",
        "\n",
        "class Sparrow(Bird):\n",
        "    def fly(self):\n",
        "        return \"Sparrow flies high in the sky.\"\n",
        "\n",
        "class Penguin(Bird):\n",
        "    def fly(self):\n",
        "        return \"Penguins cannot fly, but they swim excellently.\"\n",
        " # Polymorphism demonstration\n",
        "birds = [Sparrow(), Penguin()]\n",
        "for bird in birds:\n",
        "    print(bird.fly())\n"
      ],
      "metadata": {
        "id": "0XIy2w01oy5-",
        "colab": {
          "base_uri": "https://localhost:8080/"
        },
        "outputId": "00fe2a7e-eae9-4c30-81a1-64e6b0b4508f"
      },
      "execution_count": 19,
      "outputs": [
        {
          "output_type": "stream",
          "name": "stdout",
          "text": [
            "Sparrow flies high in the sky.\n",
            "Penguins cannot fly, but they swim excellently.\n"
          ]
        }
      ]
    },
    {
      "cell_type": "code",
      "source": [
        "#5. Write a program to demonstrate encapsulation by creating a class BankAccount with private attributes balance and methods to deposit, withdraw, and check balance\n",
        "class BankAccount:\n",
        "    def __init__(self, initial_balance=0):\n",
        "        self.__balance = initial_balance\n",
        "\n",
        "    def deposit(self, amount):\n",
        "        if amount > 0:\n",
        "            self.__balance += amount\n",
        "            return f\"Deposited: {amount}. New Balance: {self.__balance}\"\n",
        "        return \"Invalid deposit amount.\"\n",
        "\n",
        "    def withdraw(self, amount):\n",
        "        if 0 < amount <= self.__balance:\n",
        "            self.__balance -= amount\n",
        "            return f\"Withdrawn: {amount}. New Balance: {self.__balance}\"\n",
        "        return \"Invalid withdrawal amount or insufficient balance.\"\n",
        "\n",
        "    def check_balance(self):\n",
        "        return f\"Current Balance: {self.__balance}\"\n",
        "# Encapsulation demonstration\n",
        "account = BankAccount(1000)\n",
        "print(account.deposit(500))\n",
        "print(account.withdraw(200))\n",
        "print(account.check_balance())\n"
      ],
      "metadata": {
        "id": "NruZUjb-oy3N",
        "colab": {
          "base_uri": "https://localhost:8080/"
        },
        "outputId": "fa620b1a-59cd-4f11-84d6-8947cb4457f3"
      },
      "execution_count": 20,
      "outputs": [
        {
          "output_type": "stream",
          "name": "stdout",
          "text": [
            "Deposited: 500. New Balance: 1500\n",
            "Withdrawn: 200. New Balance: 1300\n",
            "Current Balance: 1300\n"
          ]
        }
      ]
    },
    {
      "cell_type": "code",
      "source": [
        "#6. Demonstrate runtime polymorphism using a method play() in a base class Instrument. Derive classes Guitar and Piano that implement their own version of play().\n",
        "class Instrument:\n",
        "    def play(self):\n",
        "        return \"Playing an instrument.\"\n",
        "\n",
        "class Guitar(Instrument):\n",
        "    def play(self):\n",
        "        return \"Strumming the guitar.\"\n",
        "\n",
        "class Piano(Instrument):\n",
        "    def play(self):\n",
        "        return \"Playing the piano.\"\n",
        "# Runtime Polymorphism demonstration\n",
        "instruments = [Guitar(), Piano()]\n",
        "for instrument in instruments:\n",
        "    print(instrument.play())\n"
      ],
      "metadata": {
        "id": "Igt15oWKoy0V",
        "colab": {
          "base_uri": "https://localhost:8080/"
        },
        "outputId": "6a84d25e-9c10-489a-9b18-8b874ab2b925"
      },
      "execution_count": 23,
      "outputs": [
        {
          "output_type": "stream",
          "name": "stdout",
          "text": [
            "Strumming the guitar.\n",
            "Playing the piano.\n"
          ]
        }
      ]
    },
    {
      "cell_type": "code",
      "source": [
        "#7. Create a class MathOperations with a class method add_numbers() to add two numbers and a static method subtract_numbers() to subtract two numbers.\n",
        "class MathOperations:\n",
        "    @classmethod\n",
        "    def add_numbers(cls, a, b):\n",
        "        return a + b\n",
        "\n",
        "    @staticmethod\n",
        "    def subtract_numbers(a, b):\n",
        "        return a - b\n",
        "# MathOperations demonstration\n",
        "print(\"Addition:\", MathOperations.add_numbers(10, 5))\n",
        "print(\"Subtraction:\", MathOperations.subtract_numbers(10, 5))\n"
      ],
      "metadata": {
        "id": "FyKKDvzOoyxn",
        "colab": {
          "base_uri": "https://localhost:8080/"
        },
        "outputId": "2f3e9391-ebee-43d2-ebb3-8a42ecaa0926"
      },
      "execution_count": 24,
      "outputs": [
        {
          "output_type": "stream",
          "name": "stdout",
          "text": [
            "Addition: 15\n",
            "Subtraction: 5\n"
          ]
        }
      ]
    },
    {
      "cell_type": "code",
      "source": [
        "#8. Implement a class Person with a class method to count the total number of persons created.\n",
        "class Person:\n",
        "    count = 0\n",
        "\n",
        "    def __init__(self, name):\n",
        "        self.name = name\n",
        "        Person.count += 1\n",
        "\n",
        "    @classmethod\n",
        "    def total_persons(cls):\n",
        "        return f\"Total persons created: {cls.count}\"\n",
        "# Person count demonstration\n",
        "p1 = Person(\"Alice\")\n",
        "p2 = Person(\"Bob\")\n",
        "print(Person.total_persons())\n"
      ],
      "metadata": {
        "id": "ts9jSQR5oyuF",
        "colab": {
          "base_uri": "https://localhost:8080/"
        },
        "outputId": "2821282c-7b5b-4b2a-dddd-af639a4dcaab"
      },
      "execution_count": 25,
      "outputs": [
        {
          "output_type": "stream",
          "name": "stdout",
          "text": [
            "Total persons created: 2\n"
          ]
        }
      ]
    },
    {
      "cell_type": "code",
      "source": [
        "#9. Write a class Fraction with attributes numerator and denominator. Override the str method to display the fraction as \"numerator/denominator\".\n",
        "class Fraction:\n",
        "    def __init__(self, numerator, denominator):\n",
        "        self.numerator = numerator\n",
        "        self.denominator = denominator\n",
        "\n",
        "    def __str__(self):\n",
        "        return f\"{self.numerator}/{self.denominator}\"\n",
        "# Fraction demonstration\n",
        "fraction = Fraction(3, 4)\n",
        "print(\"Fraction:\", fraction)\n"
      ],
      "metadata": {
        "id": "mh0L6ngdoyqt",
        "colab": {
          "base_uri": "https://localhost:8080/"
        },
        "outputId": "ad7ab298-0383-43a2-f821-0af43176fcff"
      },
      "execution_count": 26,
      "outputs": [
        {
          "output_type": "stream",
          "name": "stdout",
          "text": [
            "Fraction: 3/4\n"
          ]
        }
      ]
    },
    {
      "cell_type": "code",
      "source": [
        "#10. Demonstrate operator overloading by creating a class Vector and overriding the add method to add two vectors.\n",
        "# Operator Overloading Example\n",
        "class Vector:\n",
        "    def __init__(self, x, y):\n",
        "        self.x = x\n",
        "        self.y = y\n",
        "\n",
        "    def __add__(self, other):\n",
        "        return Vector(self.x + other.x, self.y + other.y)\n",
        "\n",
        "    def __str__(self):\n",
        "        return f\"Vector({self.x}, {self.y})\"\n",
        " # Vector demonstration\n",
        "vector1 = Vector(2, 3)\n",
        "vector2 = Vector(4, 5)\n",
        "vector3 = vector1 + vector2\n",
        "print(\"Vector Addition:\", vector3)\n"
      ],
      "metadata": {
        "id": "JxK5XmzPoyn-",
        "colab": {
          "base_uri": "https://localhost:8080/"
        },
        "outputId": "c7a5aae5-f298-407b-a423-869181e54ad5"
      },
      "execution_count": 27,
      "outputs": [
        {
          "output_type": "stream",
          "name": "stdout",
          "text": [
            "Vector Addition: Vector(6, 8)\n"
          ]
        }
      ]
    },
    {
      "cell_type": "code",
      "source": [
        "#11. Create a class Person with attributes name and age. Add a method greet() that prints \"Hello, my name is {name} and I am {age} years old.\"\n",
        "class Person:\n",
        "    count = 0\n",
        "\n",
        "    def __init__(self, name, age=None):\n",
        "        self.name = name\n",
        "        self.age = age\n",
        "        Person.count += 1\n",
        "\n",
        "    @classmethod\n",
        "    def total_persons(cls):\n",
        "        return f\"Total persons created: {cls.count}\"\n",
        "\n",
        "    def greet(self):\n",
        "        return f\"Hello, my name is {self.name} and I am {self.age} years old.\"\n",
        "# Person count demonstration\n",
        "p1 = Person(\"Alice\", 25)\n",
        "p2 = Person(\"Bob\", 30)\n",
        "print(Person.total_persons())\n",
        "print(p1.greet())\n",
        "print(p2.greet())\n"
      ],
      "metadata": {
        "id": "dH8IpLRBoyk9",
        "colab": {
          "base_uri": "https://localhost:8080/"
        },
        "outputId": "a6ade617-781b-402e-ee21-b0ce7c2e03e4"
      },
      "execution_count": 28,
      "outputs": [
        {
          "output_type": "stream",
          "name": "stdout",
          "text": [
            "Total persons created: 2\n",
            "Hello, my name is Alice and I am 25 years old.\n",
            "Hello, my name is Bob and I am 30 years old.\n"
          ]
        }
      ]
    },
    {
      "cell_type": "code",
      "source": [
        "#12. Implement a class Student with attributes name and grades. Create a method average_grade() to compute the average of the grades\n",
        "# Student Class with Average Grade Method\n",
        "class Student:\n",
        "    def __init__(self, name, grades):\n",
        "        self.name = name\n",
        "        self.grades = grades\n",
        "\n",
        "    def average_grade(self):\n",
        "        return sum(self.grades) / len(self.grades) if self.grades else 0\n",
        " # Student demonstration\n",
        "student = Student(\"John\", [85, 90, 78, 92])\n",
        "print(f\"{student.name}'s Average Grade:\", student.average_grade())\n",
        "\n"
      ],
      "metadata": {
        "id": "Grq6dUj7oyh9",
        "colab": {
          "base_uri": "https://localhost:8080/"
        },
        "outputId": "09c5cd33-a71b-4171-cd5e-029e9b1fce0b"
      },
      "execution_count": 29,
      "outputs": [
        {
          "output_type": "stream",
          "name": "stdout",
          "text": [
            "John's Average Grade: 86.25\n"
          ]
        }
      ]
    },
    {
      "cell_type": "code",
      "source": [
        "#13. Create a class Rectangle with methods set_dimensions() to set the dimensions and area() to calculate the area.\n",
        "class Rectangle(Shape):\n",
        "    def __init__(self, length, width):\n",
        "        self.length = length\n",
        "        self.width = width\n",
        "\n",
        "    def area(self):\n",
        "        return self.length * self.width\n",
        "\n",
        "    def set_dimensions(self, length, width):\n",
        "        self.length = length\n",
        "        self.width = width\n",
        "rectangle = Rectangle(4, 6)\n",
        "print(\"Area of Rectangle:\", rectangle.area())\n"
      ],
      "metadata": {
        "id": "58x_MouNoye9",
        "colab": {
          "base_uri": "https://localhost:8080/"
        },
        "outputId": "a20a7b11-5f73-4fca-af88-877cd320cc6d"
      },
      "execution_count": 30,
      "outputs": [
        {
          "output_type": "stream",
          "name": "stdout",
          "text": [
            "Area of Rectangle: 24\n"
          ]
        }
      ]
    },
    {
      "cell_type": "code",
      "source": [
        "#14. Create a class Employee with a method calculate_salary() that computes the salary based on hours worked and hourly rate. Create a derived class Manager that adds a bonus to the salary.\n",
        "class Employee:\n",
        "    def __init__(self, name, hours_worked, hourly_rate):\n",
        "        self.name = name\n",
        "        self.hours_worked = hours_worked\n",
        "        self.hourly_rate = hourly_rate\n",
        "\n",
        "    def calculate_salary(self):\n",
        "        return self.hours_worked * self.hourly_rate\n",
        "\n",
        "class Manager(Employee):\n",
        "    def __init__(self, name, hours_worked, hourly_rate, bonus):\n",
        "        super().__init__(name, hours_worked, hourly_rate)\n",
        "        self.bonus = bonus\n",
        "\n",
        "    def calculate_salary(self):\n",
        "        return super().calculate_salary() + self.bonus\n",
        "# Employee demonstration\n",
        "employee = Employee(\"Jake\", 40, 20)\n",
        "manager = Manager(\"Sophia\", 40, 20, 500)\n",
        "print(f\"{employee.name}'s Salary:\", employee.calculate_salary())\n",
        "print(f\"{manager.name}'s Salary:\", manager.calculate_salary())\n"
      ],
      "metadata": {
        "id": "NAInrGRioycF",
        "colab": {
          "base_uri": "https://localhost:8080/"
        },
        "outputId": "3dc57024-7aea-46ad-e826-acae444f0dbd"
      },
      "execution_count": 31,
      "outputs": [
        {
          "output_type": "stream",
          "name": "stdout",
          "text": [
            "Jake's Salary: 800\n",
            "Sophia's Salary: 1300\n"
          ]
        }
      ]
    },
    {
      "cell_type": "code",
      "source": [
        "#15. Create a class Product with attributes name, price, and quantity. Implement a method total_price() that calculates the total price of the product.\n",
        "# Product Class\n",
        "class Product:\n",
        "    def __init__(self, name, price, quantity):\n",
        "        self.name = name\n",
        "        self.price = price\n",
        "        self.quantity = quantity\n",
        "\n",
        "    def total_price(self):\n",
        "        return self.price * self.quantity\n"
      ],
      "metadata": {
        "id": "_WtB45CXoyY0"
      },
      "execution_count": 32,
      "outputs": []
    },
    {
      "cell_type": "code",
      "source": [
        "#16. Create a class Animal with an abstract method sound(). Create two derived classes Cow and Sheep that implement the sound() method.\n",
        "class ABC:\n",
        "    def area(self):\n",
        "        return \"Undefined\"\n",
        "class Animal(ABC):\n",
        "    def sound(self):\n",
        "        pass\n",
        "\n",
        "class Cow(Animal):\n",
        "    def sound(self):\n",
        "        return \"Moo\"\n",
        "\n",
        "class Sheep(Animal):\n",
        "    def sound(self):\n",
        "        return \"Baa\"\n",
        "\n",
        "# Example usage\n",
        "cow = Cow()\n",
        "sheep = Sheep()\n",
        "\n",
        "print(\"Cow sound:\", cow.sound())\n",
        "print(\"Sheep sound:\", sheep.sound())\n"
      ],
      "metadata": {
        "id": "8scSQaRBoyVn",
        "colab": {
          "base_uri": "https://localhost:8080/"
        },
        "outputId": "1c122bb2-f19b-45d8-8b20-4bca1867c0cd"
      },
      "execution_count": 37,
      "outputs": [
        {
          "output_type": "stream",
          "name": "stdout",
          "text": [
            "Cow sound: Moo\n",
            "Sheep sound: Baa\n"
          ]
        }
      ]
    },
    {
      "cell_type": "code",
      "source": [
        "#17. Create a class Book with attributes title, author, and year_published. Add a method get_book_info() that returns a formatted string with the book's details.\n",
        "class Book:\n",
        "    def __init__(self, title, author, year_published):\n",
        "        self.title = title\n",
        "        self.author = author\n",
        "        self.year_published = year_published\n",
        "\n",
        "    def get_book_info(self):\n",
        "        return f\"{self.title} by {self.author}, published in {self.year_published}.\"\n",
        "book = Book(\"1984\", \"George Orwell\", 1949)\n",
        "print(\"Book Info:\", book.get_book_info())\n"
      ],
      "metadata": {
        "id": "-0fWNk6yoyO1",
        "colab": {
          "base_uri": "https://localhost:8080/"
        },
        "outputId": "15925c47-4d42-48dc-fb70-0d6c2b3a7f38"
      },
      "execution_count": 38,
      "outputs": [
        {
          "output_type": "stream",
          "name": "stdout",
          "text": [
            "Book Info: 1984 by George Orwell, published in 1949.\n"
          ]
        }
      ]
    },
    {
      "cell_type": "code",
      "source": [
        "#18. Create a class House with attributes address and price. Create a derived class Mansion that adds an attribute number_of_rooms.\n",
        "class House:\n",
        "    def __init__(self, address, price):\n",
        "        self.address = address\n",
        "        self.price = price\n",
        "\n",
        "class Mansion(House):\n",
        "    def __init__(self, address, price, number_of_rooms):\n",
        "        super().__init__(address, price)\n",
        "        self.number_of_rooms = number_of_rooms\n",
        "house = House(\"123 Main St\", 250000)\n",
        "mansion = Mansion(\"456 Grand Ave\", 1000000, 10)\n",
        "print(\"House Address:\", house.address, \"Price:\", house.price)\n",
        "print(\"Mansion Address:\", mansion.address, \"Price:\", mansion.price, \"Rooms:\", mansion.number_of_rooms)\n"
      ],
      "metadata": {
        "id": "F6_X5mcpoyFV",
        "colab": {
          "base_uri": "https://localhost:8080/"
        },
        "outputId": "660a7acc-336c-464c-bae2-d76bd97bc572"
      },
      "execution_count": 39,
      "outputs": [
        {
          "output_type": "stream",
          "name": "stdout",
          "text": [
            "House Address: 123 Main St Price: 250000\n",
            "Mansion Address: 456 Grand Ave Price: 1000000 Rooms: 10\n"
          ]
        }
      ]
    }
  ]
}